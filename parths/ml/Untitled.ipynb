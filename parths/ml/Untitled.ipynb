{
 "cells": [
  {
   "cell_type": "code",
   "execution_count": 2,
   "id": "7c5f32ce-cdbf-429e-bc8e-579b160e0be0",
   "metadata": {},
   "outputs": [
    {
     "name": "stderr",
     "output_type": "stream",
     "text": [
      "[nltk_data] Downloading package punkt_tab to\n",
      "[nltk_data]     C:\\Users\\atmiya\\AppData\\Roaming\\nltk_data...\n",
      "[nltk_data]   Package punkt_tab is already up-to-date!\n"
     ]
    },
    {
     "data": {
      "text/plain": [
       "True"
      ]
     },
     "execution_count": 2,
     "metadata": {},
     "output_type": "execute_result"
    }
   ],
   "source": [
    "import nltk\n",
    "nltk.download('punkt_tab')"
   ]
  },
  {
   "cell_type": "code",
   "execution_count": 7,
   "id": "65f8e0dd-c788-4a53-b626-d4deca0fbaa4",
   "metadata": {},
   "outputs": [
    {
     "name": "stdout",
     "output_type": "stream",
     "text": [
      "sentence tokeniser ['good Morning !.', 'Atmiya University ?']\n",
      "sentence tokeniser ['good Morning !.Atmiya University ?']\n"
     ]
    }
   ],
   "source": [
    "from nltk.tokenize import sent_tokenize\n",
    "\n",
    "text=\"good Morning !. Atmiya University ?\"\n",
    "text1=\"good Morning !.Atmiya University ?\"\n",
    "\n",
    "tokenised_sentence=sent_tokenize(text)\n",
    "print(\"sentence tokeniser\",tokenised_sentence)\n",
    "\n",
    "tokenised_sentence1=sent_tokenize(text1)\n",
    "print(\"sentence tokeniser\",tokenised_sentence1)\n",
    "\n"
   ]
  },
  {
   "cell_type": "code",
   "execution_count": 11,
   "id": "f8acbb8a-7540-4b2a-949d-a1df724a1d2f",
   "metadata": {},
   "outputs": [
    {
     "name": "stdout",
     "output_type": "stream",
     "text": [
      "word tokeniser ['good', 'Morning', '!', '.', 'that', \"'s\", 'Atmiya', 'University', '?']\n"
     ]
    }
   ],
   "source": [
    "from nltk.tokenize import word_tokenize\n",
    "\n",
    "text=\"good Morning !. that's Atmiya University ?\"\n",
    "tokenised_word=word_tokenize(text)\n",
    "\n",
    "print(\"word tokeniser\",tokenised_word)\n",
    "\n"
   ]
  },
  {
   "cell_type": "code",
   "execution_count": 16,
   "id": "613d42bc-1d28-4a4d-b89e-3593b8242399",
   "metadata": {},
   "outputs": [
    {
     "name": "stdout",
     "output_type": "stream",
     "text": [
      "word tokeniser ['good', 'Morning', '!.', 'that', \"'\", 's', 'Atmiya', 'University', 'is', \"'\", 's', '?']\n"
     ]
    }
   ],
   "source": [
    "from nltk.tokenize import wordpunct_tokenize\n",
    "\n",
    "text=\"good Morning !. that's Atmiya University is's ?\"\n",
    "tokenised_wordpunct=wordpunct_tokenize(text)\n",
    "\n",
    "print(\"word tokeniser\",tokenised_wordpunct)"
   ]
  },
  {
   "cell_type": "code",
   "execution_count": 25,
   "id": "05db0246-54c2-415b-89d0-03f77b7c9d26",
   "metadata": {},
   "outputs": [
    {
     "name": "stdout",
     "output_type": "stream",
     "text": [
      "porter stemmer\n",
      "runing student studying happiness playing played --> runing student studying happiness playing play\n",
      "snowball stemmer\n",
      "runing student studying happiness playing played --> runing student studying happiness playing play\n",
      "lancaster stemmer\n",
      "runing student studying happiness playing played --> runing student studying happiness playing played\n"
     ]
    }
   ],
   "source": [
    "from nltk.stem import PorterStemmer,SnowballStemmer,LancasterStemmer\n",
    "\n",
    "porter=PorterStemmer()\n",
    "snowball=SnowballStemmer('english')\n",
    "lancaster=LancasterStemmer()\n",
    "\n",
    "# words=[\"runing\",\"student\",\"studying\",\"happiness\",\"playing\",\"played\"]\n",
    "words=[\"runing student studying happiness playing played\"]\n",
    "print('porter stemmer')\n",
    "for w in words:\n",
    "    print(w,'-->',porter.stem(w))\n",
    "print('snowball stemmer')\n",
    "for w in words:\n",
    "    print(w,'-->',snowball.stem(w))\n",
    "print('lancaster stemmer')\n",
    "for w in words:\n",
    "    print(w,'-->',lancaster.stem(w))    "
   ]
  },
  {
   "cell_type": "code",
   "execution_count": null,
   "id": "7d542997-8faf-4616-86bb-c0b46c037def",
   "metadata": {},
   "outputs": [],
   "source": []
  },
  {
   "cell_type": "code",
   "execution_count": null,
   "id": "75b6d980-264c-4896-a926-384abadacb9e",
   "metadata": {},
   "outputs": [],
   "source": []
  }
 ],
 "metadata": {
  "kernelspec": {
   "display_name": "Python 3 (ipykernel)",
   "language": "python",
   "name": "python3"
  },
  "language_info": {
   "codemirror_mode": {
    "name": "ipython",
    "version": 3
   },
   "file_extension": ".py",
   "mimetype": "text/x-python",
   "name": "python",
   "nbconvert_exporter": "python",
   "pygments_lexer": "ipython3",
   "version": "3.10.2"
  }
 },
 "nbformat": 4,
 "nbformat_minor": 5
}
